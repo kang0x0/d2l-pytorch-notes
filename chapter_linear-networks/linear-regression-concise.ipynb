{
 "cells": [
  {
   "cell_type": "markdown",
   "id": "3e211967",
   "metadata": {
    "origin_pos": 0
   },
   "source": [
    "# 线性回归的简洁实现\n",
    ":label:`sec_linear_concise`\n",
    "\n",
    "在过去的几年里，出于对深度学习强烈的兴趣，\n",
    "许多公司、学者和业余爱好者开发了各种成熟的开源框架。\n",
    "这些框架可以自动化基于梯度的学习算法中重复性的工作。\n",
    "在 :numref:`sec_linear_scratch`中，我们只运用了：\n",
    "（1）通过张量来进行数据存储和线性代数；\n",
    "（2）通过自动微分来计算梯度。\n",
    "实际上，由于数据迭代器、损失函数、优化器和神经网络层很常用，\n",
    "现代深度学习库也为我们实现了这些组件。\n",
    "\n",
    "本节将介绍如何(**通过使用深度学习框架来简洁地实现**)\n",
    " :numref:`sec_linear_scratch`中的(**线性回归模型**)。\n",
    "\n",
    "## 生成数据集\n",
    "\n",
    "与 :numref:`sec_linear_scratch`中类似，我们首先[**生成数据集**]。\n"
   ]
  },
  {
   "cell_type": "code",
   "execution_count": 2,
   "id": "5c88734d",
   "metadata": {
    "execution": {
     "iopub.execute_input": "2023-08-18T07:01:52.522009Z",
     "iopub.status.busy": "2023-08-18T07:01:52.521295Z",
     "iopub.status.idle": "2023-08-18T07:01:54.610713Z",
     "shell.execute_reply": "2023-08-18T07:01:54.609677Z"
    },
    "origin_pos": 2,
    "tab": [
     "pytorch"
    ]
   },
   "outputs": [],
   "source": [
    "import numpy as np\n",
    "import torch\n",
    "from torch.utils import data\n",
    "# from d2l import torch as d2l"
   ]
  },
  {
   "cell_type": "code",
   "execution_count": 6,
   "id": "c26b741f",
   "metadata": {
    "execution": {
     "iopub.execute_input": "2023-08-18T07:01:54.616404Z",
     "iopub.status.busy": "2023-08-18T07:01:54.615685Z",
     "iopub.status.idle": "2023-08-18T07:01:54.643472Z",
     "shell.execute_reply": "2023-08-18T07:01:54.642512Z"
    },
    "origin_pos": 5,
    "tab": [
     "pytorch"
    ]
   },
   "outputs": [],
   "source": [
    "def synthetic_data(w, b, num_examples):  #@save\n",
    "    \"\"\"生成y=Xw+b+噪声\"\"\"\n",
    "    X = torch.normal(0, 1, (num_examples, len(w)))\n",
    "    y = torch.matmul(X, w) + b\n",
    "    y += torch.normal(0, 0.01, y.shape)\n",
    "    return X, y.reshape((-1, 1))\n",
    "\n",
    "true_w = torch.tensor([2, -3.4])\n",
    "true_b = 4.2\n",
    "features, labels = synthetic_data(true_w, true_b, 1000)\n"
   ]
  },
  {
   "cell_type": "markdown",
   "id": "e6fd8db7",
   "metadata": {
    "origin_pos": 6
   },
   "source": [
    "## 读取数据集\n",
    "\n",
    "我们可以[**调用框架中现有的API来读取数据**]。\n",
    "我们将`features`和`labels`作为API的参数传递，并通过数据迭代器指定`batch_size`。\n",
    "此外，布尔值`is_train`表示是否希望数据迭代器对象在每个迭代周期内打乱数据。\n"
   ]
  },
  {
   "cell_type": "code",
   "execution_count": 7,
   "id": "955f5cc0",
   "metadata": {
    "execution": {
     "iopub.execute_input": "2023-08-18T07:01:54.648232Z",
     "iopub.status.busy": "2023-08-18T07:01:54.647744Z",
     "iopub.status.idle": "2023-08-18T07:01:54.653335Z",
     "shell.execute_reply": "2023-08-18T07:01:54.652317Z"
    },
    "origin_pos": 8,
    "tab": [
     "pytorch"
    ]
   },
   "outputs": [],
   "source": [
    "def load_array(data_arrays, batch_size, is_train=True):  #@save\n",
    "    \"\"\"构造一个PyTorch数据迭代器\"\"\"\n",
    "    dataset = data.TensorDataset(*data_arrays)\n",
    "    return data.DataLoader(dataset, batch_size, shuffle=is_train)"
   ]
  },
  {
   "cell_type": "code",
   "execution_count": 8,
   "id": "c041eafa",
   "metadata": {
    "execution": {
     "iopub.execute_input": "2023-08-18T07:01:54.657592Z",
     "iopub.status.busy": "2023-08-18T07:01:54.656999Z",
     "iopub.status.idle": "2023-08-18T07:01:54.661787Z",
     "shell.execute_reply": "2023-08-18T07:01:54.660785Z"
    },
    "origin_pos": 11,
    "tab": [
     "pytorch"
    ]
   },
   "outputs": [],
   "source": [
    "batch_size = 10\n",
    "data_iter = load_array((features, labels), batch_size)"
   ]
  },
  {
   "cell_type": "markdown",
   "id": "503e6815",
   "metadata": {
    "origin_pos": 12
   },
   "source": [
    "使用`data_iter`的方式与我们在 :numref:`sec_linear_scratch`中使用`data_iter`函数的方式相同。为了验证是否正常工作，让我们读取并打印第一个小批量样本。\n",
    "与 :numref:`sec_linear_scratch`不同，这里我们使用`iter`构造Python迭代器，并使用`next`从迭代器中获取第一项。\n"
   ]
  },
  {
   "cell_type": "code",
   "execution_count": 9,
   "id": "7c6919b8",
   "metadata": {
    "execution": {
     "iopub.execute_input": "2023-08-18T07:01:54.665574Z",
     "iopub.status.busy": "2023-08-18T07:01:54.664999Z",
     "iopub.status.idle": "2023-08-18T07:01:54.673523Z",
     "shell.execute_reply": "2023-08-18T07:01:54.672688Z"
    },
    "origin_pos": 13,
    "tab": [
     "pytorch"
    ]
   },
   "outputs": [
    {
     "data": {
      "text/plain": [
       "[tensor([[ 0.5235,  0.9449],\n",
       "         [-0.9408,  1.6595],\n",
       "         [ 0.5717, -1.2671],\n",
       "         [-0.6523,  1.2331],\n",
       "         [ 0.7269,  0.3077],\n",
       "         [ 0.7729, -1.0134],\n",
       "         [-0.5367, -0.1693],\n",
       "         [ 1.6231, -0.0922],\n",
       "         [ 0.0125, -1.8294],\n",
       "         [-0.1588,  0.6165]]),\n",
       " tensor([[ 2.0277],\n",
       "         [-3.3324],\n",
       "         [ 9.6505],\n",
       "         [-1.2723],\n",
       "         [ 4.5999],\n",
       "         [ 9.1703],\n",
       "         [ 3.6909],\n",
       "         [ 7.7583],\n",
       "         [10.4481],\n",
       "         [ 1.7902]])]"
      ]
     },
     "execution_count": 9,
     "metadata": {},
     "output_type": "execute_result"
    }
   ],
   "source": [
    "next(iter(data_iter))"
   ]
  },
  {
   "cell_type": "markdown",
   "id": "4f57af75",
   "metadata": {
    "origin_pos": 14
   },
   "source": [
    "## 定义模型\n",
    "\n",
    "当我们在 :numref:`sec_linear_scratch`中实现线性回归时，\n",
    "我们明确定义了模型参数变量，并编写了计算的代码，这样通过基本的线性代数运算得到输出。\n",
    "但是，如果模型变得更加复杂，且当我们几乎每天都需要实现模型时，自然会想简化这个过程。\n",
    "这种情况类似于为自己的博客从零开始编写网页。\n",
    "做一两次是有益的，但如果每个新博客就需要工程师花一个月的时间重新开始编写网页，那并不高效。\n",
    "\n",
    "对于标准深度学习模型，我们可以[**使用框架的预定义好的层**]。这使我们只需关注使用哪些层来构造模型，而不必关注层的实现细节。\n",
    "我们首先定义一个模型变量`net`，它是一个`Sequential`类的实例。\n",
    "`Sequential`类将多个层串联在一起。\n",
    "当给定输入数据时，`Sequential`实例将数据传入到第一层，\n",
    "然后将第一层的输出作为第二层的输入，以此类推。\n",
    "在下面的例子中，我们的模型只包含一个层，因此实际上不需要`Sequential`。\n",
    "但是由于以后几乎所有的模型都是多层的，在这里使用`Sequential`会让你熟悉“标准的流水线”。\n",
    "\n",
    "回顾 :numref:`fig_single_neuron`中的单层网络架构，\n",
    "这一单层被称为*全连接层*（fully-connected layer），\n",
    "因为它的每一个输入都通过矩阵-向量乘法得到它的每个输出。\n"
   ]
  },
  {
   "cell_type": "markdown",
   "id": "2b7cb683",
   "metadata": {
    "origin_pos": 16,
    "tab": [
     "pytorch"
    ]
   },
   "source": [
    "在PyTorch中，全连接层在`Linear`类中定义。\n",
    "值得注意的是，我们将两个参数传递到`nn.Linear`中。\n",
    "第一个指定输入特征形状，即2，第二个指定输出特征形状，输出特征形状为单个标量，因此为1。\n"
   ]
  },
  {
   "cell_type": "code",
   "execution_count": 10,
   "id": "85c54a1a",
   "metadata": {
    "execution": {
     "iopub.execute_input": "2023-08-18T07:01:54.677177Z",
     "iopub.status.busy": "2023-08-18T07:01:54.676580Z",
     "iopub.status.idle": "2023-08-18T07:01:54.680914Z",
     "shell.execute_reply": "2023-08-18T07:01:54.680130Z"
    },
    "origin_pos": 20,
    "tab": [
     "pytorch"
    ]
   },
   "outputs": [],
   "source": [
    "# nn是神经网络的缩写\n",
    "from torch import nn\n",
    "\n",
    "net = nn.Sequential(nn.Linear(2, 1))"
   ]
  },
  {
   "cell_type": "markdown",
   "id": "fc18b2c1",
   "metadata": {
    "origin_pos": 23
   },
   "source": [
    "## (**初始化模型参数**)\n",
    "\n",
    "在使用`net`之前，我们需要初始化模型参数。\n",
    "如在线性回归模型中的权重和偏置。\n",
    "深度学习框架通常有预定义的方法来初始化参数。\n",
    "在这里，我们指定每个权重参数应该从均值为0、标准差为0.01的正态分布中随机采样，\n",
    "偏置参数将初始化为零。\n"
   ]
  },
  {
   "cell_type": "markdown",
   "id": "f7452e3b",
   "metadata": {
    "origin_pos": 25,
    "tab": [
     "pytorch"
    ]
   },
   "source": [
    "正如我们在构造`nn.Linear`时指定输入和输出尺寸一样，\n",
    "现在我们能直接访问参数以设定它们的初始值。\n",
    "我们通过`net[0]`选择网络中的第一个图层，\n",
    "然后使用`weight.data`和`bias.data`方法访问参数。\n",
    "我们还可以使用替换方法`normal_`和`fill_`来重写参数值。\n"
   ]
  },
  {
   "cell_type": "code",
   "execution_count": 11,
   "id": "31716c55",
   "metadata": {
    "execution": {
     "iopub.execute_input": "2023-08-18T07:01:54.684561Z",
     "iopub.status.busy": "2023-08-18T07:01:54.684036Z",
     "iopub.status.idle": "2023-08-18T07:01:54.690673Z",
     "shell.execute_reply": "2023-08-18T07:01:54.689754Z"
    },
    "origin_pos": 29,
    "tab": [
     "pytorch"
    ]
   },
   "outputs": [
    {
     "data": {
      "text/plain": [
       "tensor([0.])"
      ]
     },
     "execution_count": 11,
     "metadata": {},
     "output_type": "execute_result"
    }
   ],
   "source": [
    "net[0].weight.data.normal_(0, 0.01)\n",
    "net[0].bias.data.fill_(0)"
   ]
  },
  {
   "cell_type": "markdown",
   "id": "94568f78",
   "metadata": {
    "origin_pos": 33,
    "tab": [
     "pytorch"
    ]
   },
   "source": [
    "\n"
   ]
  },
  {
   "cell_type": "markdown",
   "id": "e9592f9a",
   "metadata": {
    "origin_pos": 35
   },
   "source": [
    "## 定义损失函数\n"
   ]
  },
  {
   "cell_type": "markdown",
   "id": "9a431ee3",
   "metadata": {
    "origin_pos": 37,
    "tab": [
     "pytorch"
    ]
   },
   "source": [
    "[**计算均方误差使用的是`MSELoss`类，也称为平方$L_2$范数**]。\n",
    "默认情况下，它返回所有样本损失的平均值。\n"
   ]
  },
  {
   "cell_type": "code",
   "execution_count": 12,
   "id": "19a417ac",
   "metadata": {
    "execution": {
     "iopub.execute_input": "2023-08-18T07:01:54.695575Z",
     "iopub.status.busy": "2023-08-18T07:01:54.694922Z",
     "iopub.status.idle": "2023-08-18T07:01:54.699373Z",
     "shell.execute_reply": "2023-08-18T07:01:54.698348Z"
    },
    "origin_pos": 41,
    "tab": [
     "pytorch"
    ]
   },
   "outputs": [],
   "source": [
    "loss = nn.MSELoss()"
   ]
  },
  {
   "cell_type": "markdown",
   "id": "30dbe343",
   "metadata": {
    "origin_pos": 44
   },
   "source": [
    "## 定义优化算法\n"
   ]
  },
  {
   "cell_type": "markdown",
   "id": "2663da90",
   "metadata": {
    "origin_pos": 46,
    "tab": [
     "pytorch"
    ]
   },
   "source": [
    "小批量随机梯度下降算法是一种优化神经网络的标准工具，\n",
    "PyTorch在`optim`模块中实现了该算法的许多变种。\n",
    "当我们(**实例化一个`SGD`实例**)时，我们要指定优化的参数\n",
    "（可通过`net.parameters()`从我们的模型中获得）以及优化算法所需的超参数字典。\n",
    "小批量随机梯度下降只需要设置`lr`值，这里设置为0.03。\n"
   ]
  },
  {
   "cell_type": "code",
   "execution_count": 13,
   "id": "1ae0989f",
   "metadata": {
    "execution": {
     "iopub.execute_input": "2023-08-18T07:01:54.703905Z",
     "iopub.status.busy": "2023-08-18T07:01:54.703368Z",
     "iopub.status.idle": "2023-08-18T07:01:54.708081Z",
     "shell.execute_reply": "2023-08-18T07:01:54.706987Z"
    },
    "origin_pos": 50,
    "tab": [
     "pytorch"
    ]
   },
   "outputs": [],
   "source": [
    "trainer = torch.optim.SGD(net.parameters(), lr=0.03)"
   ]
  },
  {
   "cell_type": "markdown",
   "id": "004056f1",
   "metadata": {
    "origin_pos": 53
   },
   "source": [
    "## 训练\n",
    "\n",
    "通过深度学习框架的高级API来实现我们的模型只需要相对较少的代码。\n",
    "我们不必单独分配参数、不必定义我们的损失函数，也不必手动实现小批量随机梯度下降。\n",
    "当我们需要更复杂的模型时，高级API的优势将大大增加。\n",
    "当我们有了所有的基本组件，[**训练过程代码与我们从零开始实现时所做的非常相似**]。\n",
    "\n",
    "回顾一下：在每个迭代周期里，我们将完整遍历一次数据集（`train_data`），\n",
    "不停地从中获取一个小批量的输入和相应的标签。\n",
    "对于每一个小批量，我们会进行以下步骤:\n",
    "\n",
    "* 通过调用`net(X)`生成预测并计算损失`l`（前向传播）。\n",
    "* 通过进行反向传播来计算梯度。\n",
    "* 通过调用优化器来更新模型参数。\n",
    "\n",
    "为了更好的衡量训练效果，我们计算每个迭代周期后的损失，并打印它来监控训练过程。\n"
   ]
  },
  {
   "cell_type": "code",
   "execution_count": 14,
   "id": "1270d706",
   "metadata": {
    "execution": {
     "iopub.execute_input": "2023-08-18T07:01:54.712705Z",
     "iopub.status.busy": "2023-08-18T07:01:54.712113Z",
     "iopub.status.idle": "2023-08-18T07:01:54.922720Z",
     "shell.execute_reply": "2023-08-18T07:01:54.921580Z"
    },
    "origin_pos": 55,
    "tab": [
     "pytorch"
    ]
   },
   "outputs": [
    {
     "name": "stdout",
     "output_type": "stream",
     "text": [
      "epoch 1, loss 0.000247\n",
      "epoch 2, loss 0.000103\n",
      "epoch 3, loss 0.000103\n"
     ]
    }
   ],
   "source": [
    "num_epochs = 3\n",
    "for epoch in range(num_epochs):\n",
    "    for X, y in data_iter:\n",
    "        l = loss(net(X) ,y)\n",
    "        trainer.zero_grad()\n",
    "        l.backward()\n",
    "        trainer.step()\n",
    "    l = loss(net(features), labels)\n",
    "    print(f'epoch {epoch + 1}, loss {l:f}')"
   ]
  },
  {
   "cell_type": "markdown",
   "id": "2f52dea0",
   "metadata": {
    "origin_pos": 58
   },
   "source": [
    "下面我们[**比较生成数据集的真实参数和通过有限数据训练获得的模型参数**]。\n",
    "要访问参数，我们首先从`net`访问所需的层，然后读取该层的权重和偏置。\n",
    "正如在从零开始实现中一样，我们估计得到的参数与生成数据的真实参数非常接近。\n"
   ]
  },
  {
   "cell_type": "code",
   "execution_count": 15,
   "id": "aa7cef5a",
   "metadata": {
    "execution": {
     "iopub.execute_input": "2023-08-18T07:01:54.927464Z",
     "iopub.status.busy": "2023-08-18T07:01:54.927072Z",
     "iopub.status.idle": "2023-08-18T07:01:54.935672Z",
     "shell.execute_reply": "2023-08-18T07:01:54.934585Z"
    },
    "origin_pos": 60,
    "tab": [
     "pytorch"
    ]
   },
   "outputs": [
    {
     "name": "stdout",
     "output_type": "stream",
     "text": [
      "w的估计误差： tensor([ 2.4521e-04, -7.1287e-05])\n",
      "b的估计误差： tensor([9.7275e-05])\n"
     ]
    }
   ],
   "source": [
    "w = net[0].weight.data\n",
    "print('w的估计误差：', true_w - w.reshape(true_w.shape))\n",
    "b = net[0].bias.data\n",
    "print('b的估计误差：', true_b - b)"
   ]
  },
  {
   "cell_type": "markdown",
   "id": "f62d52d4",
   "metadata": {
    "origin_pos": 63
   },
   "source": [
    "## 小结\n"
   ]
  },
  {
   "cell_type": "markdown",
   "id": "b6db4aa3",
   "metadata": {
    "origin_pos": 65,
    "tab": [
     "pytorch"
    ]
   },
   "source": [
    "* 我们可以使用PyTorch的高级API更简洁地实现模型。\n",
    "* 在PyTorch中，`data`模块提供了数据处理工具，`nn`模块定义了大量的神经网络层和常见损失函数。\n",
    "* 我们可以通过`_`结尾的方法将参数替换，从而初始化参数。\n"
   ]
  },
  {
   "cell_type": "markdown",
   "id": "eb6af2c7",
   "metadata": {
    "origin_pos": 67
   },
   "source": [
    "## 练习\n",
    "\n",
    "1. 如果将小批量的总损失替换为小批量损失的平均值，需要如何更改学习率？\n",
    "1. 查看深度学习框架文档，它们提供了哪些损失函数和初始化方法？用Huber损失代替原损失，即\n",
    "    $$l(y,y') = \\begin{cases}|y-y'| -\\frac{\\sigma}{2} & \\text{ if } |y-y'| > \\sigma \\\\ \\frac{1}{2 \\sigma} (y-y')^2 & \\text{ 其它情况}\\end{cases}$$\n",
    "1. 如何访问线性回归的梯度？\n"
   ]
  },
  {
   "cell_type": "code",
   "execution_count": 16,
   "id": "5da836c7",
   "metadata": {},
   "outputs": [
    {
     "name": "stdout",
     "output_type": "stream",
     "text": [
      "epoch 1, loss 0.000051\n",
      "epoch 2, loss 0.000051\n",
      "epoch 3, loss 0.000051\n"
     ]
    }
   ],
   "source": [
    "# 替换原来的损失函数定义\n",
    "loss = nn.HuberLoss(delta=1.0)  # 或使用自定义的HuberLoss\n",
    "\n",
    "# 训练循环代码保持不变\n",
    "num_epochs = 3\n",
    "for epoch in range(num_epochs):\n",
    "    for X, y in data_iter:\n",
    "        l = loss(net(X), y)\n",
    "        trainer.zero_grad()\n",
    "        l.backward()\n",
    "        trainer.step()\n",
    "    l = loss(net(features), labels)\n",
    "    print(f'epoch {epoch + 1}, loss {l:f}')"
   ]
  },
  {
   "cell_type": "code",
   "execution_count": 19,
   "id": "72680044",
   "metadata": {},
   "outputs": [
    {
     "name": "stdout",
     "output_type": "stream",
     "text": [
      "权重梯度: tensor([[-1.5833,  1.1644]])\n",
      "偏置梯度: tensor([-5.2580])\n",
      "权重梯度: tensor([[-3.3773,  3.1996]])\n",
      "偏置梯度: tensor([-4.1328])\n",
      "权重梯度: tensor([[-0.6347,  6.7128]])\n",
      "偏置梯度: tensor([-9.5452])\n",
      "权重梯度: tensor([[-4.0004,  6.7247]])\n",
      "偏置梯度: tensor([-7.1478])\n",
      "权重梯度: tensor([[-3.6488, 14.9016]])\n",
      "偏置梯度: tensor([-8.8325])\n",
      "权重梯度: tensor([[-2.9041,  4.6010]])\n",
      "偏置梯度: tensor([-4.3658])\n",
      "权重梯度: tensor([[-3.2238,  7.7340]])\n",
      "偏置梯度: tensor([-5.9155])\n",
      "权重梯度: tensor([[-3.5650, -0.1799]])\n",
      "偏置梯度: tensor([-4.2053])\n",
      "权重梯度: tensor([[-1.4969,  0.5779]])\n",
      "偏置梯度: tensor([-5.1779])\n",
      "权重梯度: tensor([[-6.0205,  3.9519]])\n",
      "偏置梯度: tensor([-5.3112])\n",
      "权重梯度: tensor([[-4.0355,  1.7089]])\n",
      "偏置梯度: tensor([-4.7992])\n",
      "权重梯度: tensor([[-4.1192,  4.4891]])\n",
      "偏置梯度: tensor([-4.6093])\n",
      "权重梯度: tensor([[-1.4900,  2.3979]])\n",
      "偏置梯度: tensor([-2.8514])\n",
      "权重梯度: tensor([[-2.4851,  1.0327]])\n",
      "偏置梯度: tensor([-2.7832])\n",
      "权重梯度: tensor([[-2.1647,  6.2904]])\n",
      "偏置梯度: tensor([-5.2094])\n",
      "权重梯度: tensor([[-0.9377,  3.0741]])\n",
      "偏置梯度: tensor([-2.9948])\n",
      "权重梯度: tensor([[1.6529, 3.1047]])\n",
      "偏置梯度: tensor([-3.7681])\n",
      "权重梯度: tensor([[-0.5286,  2.7936]])\n",
      "偏置梯度: tensor([-3.6559])\n",
      "权重梯度: tensor([[-3.2783,  0.1756]])\n",
      "偏置梯度: tensor([-2.7180])\n",
      "权重梯度: tensor([[-0.5151,  2.3821]])\n",
      "偏置梯度: tensor([-2.6279])\n",
      "权重梯度: tensor([[-0.3704,  2.4345]])\n",
      "偏置梯度: tensor([-2.7442])\n",
      "权重梯度: tensor([[0.8456, 1.4609]])\n",
      "偏置梯度: tensor([-2.5252])\n",
      "权重梯度: tensor([[-4.1522,  0.4636]])\n",
      "偏置梯度: tensor([-3.2527])\n",
      "权重梯度: tensor([[-0.9894,  1.5594]])\n",
      "偏置梯度: tensor([-2.6785])\n",
      "权重梯度: tensor([[-1.2374,  1.1361]])\n",
      "偏置梯度: tensor([-1.8372])\n",
      "权重梯度: tensor([[-0.8025,  1.0523]])\n",
      "偏置梯度: tensor([-1.7671])\n",
      "权重梯度: tensor([[-0.2218,  0.6093]])\n",
      "偏置梯度: tensor([-1.1592])\n",
      "权重梯度: tensor([[-1.5789,  0.4319]])\n",
      "偏置梯度: tensor([-1.7667])\n",
      "权重梯度: tensor([[-0.0494,  2.9590]])\n",
      "偏置梯度: tensor([-1.3731])\n",
      "权重梯度: tensor([[-0.5784, -0.0188]])\n",
      "偏置梯度: tensor([-1.0821])\n",
      "权重梯度: tensor([[0.2194, 1.2046]])\n",
      "偏置梯度: tensor([-1.5794])\n",
      "权重梯度: tensor([[-0.5736,  1.5688]])\n",
      "偏置梯度: tensor([-1.6496])\n",
      "权重梯度: tensor([[0.2897, 0.9463]])\n",
      "偏置梯度: tensor([-1.1933])\n",
      "权重梯度: tensor([[-0.4847,  1.0660]])\n",
      "偏置梯度: tensor([-1.2568])\n",
      "权重梯度: tensor([[-0.4345,  1.9705]])\n",
      "偏置梯度: tensor([-1.4531])\n",
      "权重梯度: tensor([[-1.3747,  0.4914]])\n",
      "偏置梯度: tensor([-0.7757])\n",
      "权重梯度: tensor([[-0.1823,  1.3687]])\n",
      "偏置梯度: tensor([-1.3915])\n",
      "权重梯度: tensor([[0.1095, 0.7485]])\n",
      "偏置梯度: tensor([-0.7257])\n",
      "权重梯度: tensor([[-1.0842,  0.5000]])\n",
      "偏置梯度: tensor([-0.9316])\n",
      "权重梯度: tensor([[0.0784, 0.4218]])\n",
      "偏置梯度: tensor([-0.2312])\n",
      "权重梯度: tensor([[-0.4422,  0.9357]])\n",
      "偏置梯度: tensor([-1.1141])\n",
      "权重梯度: tensor([[0.0268, 0.3760]])\n",
      "偏置梯度: tensor([-0.5697])\n",
      "权重梯度: tensor([[0.0720, 1.2686]])\n",
      "偏置梯度: tensor([-1.0430])\n",
      "权重梯度: tensor([[-0.3390,  0.2087]])\n",
      "偏置梯度: tensor([-0.6000])\n",
      "权重梯度: tensor([[-0.2470,  0.0189]])\n",
      "偏置梯度: tensor([-0.5287])\n",
      "权重梯度: tensor([[-0.2153,  0.1104]])\n",
      "偏置梯度: tensor([-0.3111])\n",
      "权重梯度: tensor([[-0.5284,  1.2003]])\n",
      "偏置梯度: tensor([-0.7738])\n",
      "权重梯度: tensor([[-0.0584,  0.3438]])\n",
      "偏置梯度: tensor([-0.2065])\n",
      "权重梯度: tensor([[-0.4998,  0.5110]])\n",
      "偏置梯度: tensor([-0.5622])\n",
      "权重梯度: tensor([[-0.2613,  0.5466]])\n",
      "偏置梯度: tensor([-0.2562])\n",
      "权重梯度: tensor([[-0.1805,  0.4087]])\n",
      "偏置梯度: tensor([-0.5612])\n",
      "权重梯度: tensor([[0.1535, 0.2577]])\n",
      "偏置梯度: tensor([-0.3521])\n",
      "权重梯度: tensor([[-0.1778,  0.4030]])\n",
      "偏置梯度: tensor([-0.2328])\n",
      "权重梯度: tensor([[-0.2559,  0.5486]])\n",
      "偏置梯度: tensor([-0.0597])\n",
      "权重梯度: tensor([[-0.5251,  0.3901]])\n",
      "偏置梯度: tensor([-0.2734])\n",
      "权重梯度: tensor([[-0.1646,  0.0962]])\n",
      "偏置梯度: tensor([-0.2767])\n",
      "权重梯度: tensor([[-0.0301,  0.4048]])\n",
      "偏置梯度: tensor([-0.2973])\n",
      "权重梯度: tensor([[-0.2837,  0.6307]])\n",
      "偏置梯度: tensor([-0.3581])\n",
      "权重梯度: tensor([[-0.1458,  0.3101]])\n",
      "偏置梯度: tensor([-0.2154])\n",
      "权重梯度: tensor([[-0.2106,  0.1757]])\n",
      "偏置梯度: tensor([-0.3248])\n",
      "权重梯度: tensor([[0.0574, 0.0324]])\n",
      "偏置梯度: tensor([-0.1857])\n",
      "权重梯度: tensor([[0.0373, 0.3023]])\n",
      "偏置梯度: tensor([-0.0738])\n",
      "权重梯度: tensor([[-0.1609,  0.3205]])\n",
      "偏置梯度: tensor([-0.3364])\n",
      "权重梯度: tensor([[-0.0355,  0.0559]])\n",
      "偏置梯度: tensor([-0.0909])\n",
      "权重梯度: tensor([[0.0311, 0.1124]])\n",
      "偏置梯度: tensor([-0.1749])\n",
      "权重梯度: tensor([[-0.0949,  0.1223]])\n",
      "偏置梯度: tensor([-0.1369])\n",
      "权重梯度: tensor([[-0.1179,  0.1470]])\n",
      "偏置梯度: tensor([-0.1750])\n",
      "权重梯度: tensor([[0.0034, 0.0574]])\n",
      "偏置梯度: tensor([-0.1130])\n",
      "权重梯度: tensor([[-0.2110,  0.2109]])\n",
      "偏置梯度: tensor([-0.1413])\n",
      "权重梯度: tensor([[0.0214, 0.3477]])\n",
      "偏置梯度: tensor([-0.2185])\n",
      "权重梯度: tensor([[-0.0166,  0.0482]])\n",
      "偏置梯度: tensor([-0.1291])\n",
      "权重梯度: tensor([[-0.0493,  0.0744]])\n",
      "偏置梯度: tensor([-0.0915])\n",
      "权重梯度: tensor([[-0.0696,  0.0332]])\n",
      "偏置梯度: tensor([-0.1109])\n",
      "权重梯度: tensor([[-0.1030,  0.4463]])\n",
      "偏置梯度: tensor([-0.2769])\n",
      "权重梯度: tensor([[-0.0392,  0.1152]])\n",
      "偏置梯度: tensor([-0.0576])\n",
      "权重梯度: tensor([[-0.0268,  0.1000]])\n",
      "偏置梯度: tensor([-0.0877])\n",
      "权重梯度: tensor([[0.0357, 0.0795]])\n",
      "偏置梯度: tensor([-0.0414])\n",
      "权重梯度: tensor([[-0.1443,  0.0890]])\n",
      "偏置梯度: tensor([-0.0707])\n",
      "权重梯度: tensor([[-0.0806,  0.0890]])\n",
      "偏置梯度: tensor([-0.0851])\n",
      "权重梯度: tensor([[0.0164, 0.1084]])\n",
      "偏置梯度: tensor([-0.1072])\n",
      "权重梯度: tensor([[0.0358, 0.1105]])\n",
      "偏置梯度: tensor([-0.0885])\n",
      "权重梯度: tensor([[-0.0342,  0.0373]])\n",
      "偏置梯度: tensor([-0.0561])\n",
      "权重梯度: tensor([[-0.0054,  0.1082]])\n",
      "偏置梯度: tensor([-0.1013])\n",
      "权重梯度: tensor([[-0.0210,  0.0446]])\n",
      "偏置梯度: tensor([-0.0182])\n",
      "权重梯度: tensor([[-0.0550,  0.0221]])\n",
      "偏置梯度: tensor([-0.0418])\n",
      "权重梯度: tensor([[-0.0212,  0.0380]])\n",
      "偏置梯度: tensor([-0.0275])\n",
      "权重梯度: tensor([[-0.0501,  0.0805]])\n",
      "偏置梯度: tensor([-0.0244])\n",
      "权重梯度: tensor([[0.0081, 0.0522]])\n",
      "偏置梯度: tensor([-0.0482])\n",
      "权重梯度: tensor([[-0.0225,  0.0659]])\n",
      "偏置梯度: tensor([-0.0362])\n",
      "权重梯度: tensor([[-0.0082,  0.0451]])\n",
      "偏置梯度: tensor([-0.0498])\n",
      "权重梯度: tensor([[-0.0020,  0.1171]])\n",
      "偏置梯度: tensor([-0.0615])\n",
      "权重梯度: tensor([[-0.0186,  0.0188]])\n",
      "偏置梯度: tensor([-0.0157])\n",
      "权重梯度: tensor([[-0.0420,  0.0763]])\n",
      "偏置梯度: tensor([0.0214])\n",
      "权重梯度: tensor([[0.0080, 0.0613]])\n",
      "偏置梯度: tensor([-0.0162])\n",
      "权重梯度: tensor([[-0.0151,  0.0161]])\n",
      "偏置梯度: tensor([-0.0360])\n",
      "权重梯度: tensor([[-0.0296,  0.0426]])\n",
      "偏置梯度: tensor([-0.0511])\n",
      "权重梯度: tensor([[-0.0091,  0.0290]])\n",
      "偏置梯度: tensor([-0.0271])\n",
      "权重梯度: tensor([[-0.0194,  0.0216]])\n",
      "偏置梯度: tensor([-0.0309])\n",
      "权重梯度: tensor([[-0.0219,  0.0096]])\n",
      "偏置梯度: tensor([-0.0243])\n",
      "权重梯度: tensor([[-0.0263,  0.0431]])\n",
      "偏置梯度: tensor([-0.0467])\n",
      "epoch 1, loss 0.000411\n",
      "epoch 2, loss 0.000096\n",
      "epoch 3, loss 0.000096\n"
     ]
    }
   ],
   "source": [
    "import torch\n",
    "import torch.nn as nn\n",
    "from torch.utils import data\n",
    "\n",
    "# 生成数据集\n",
    "def synthetic_data(w, b, num_examples):\n",
    "    \"\"\"生成y=Xw+b+噪声\"\"\"\n",
    "    X = torch.normal(0, 1, (num_examples, len(w)))\n",
    "    y = torch.matmul(X, w) + b\n",
    "    y += torch.normal(0, 0.01, y.shape)\n",
    "    return X, y.reshape((-1, 1))\n",
    "\n",
    "true_w = torch.tensor([2, -3.4])\n",
    "true_b = 4.2\n",
    "features, labels = synthetic_data(true_w, true_b, 1000)\n",
    "\n",
    "# 数据加载器\n",
    "def load_array(data_arrays, batch_size, is_train=True):\n",
    "    \"\"\"构造一个PyTorch数据迭代器\"\"\"\n",
    "    dataset = data.TensorDataset(*data_arrays)\n",
    "    return data.DataLoader(dataset, batch_size, shuffle=is_train)\n",
    "\n",
    "batch_size = 10\n",
    "data_iter = load_array((features, labels), batch_size)\n",
    "\n",
    "# 定义模型\n",
    "net = nn.Sequential(nn.Linear(2, 1))\n",
    "\n",
    "# 初始化参数\n",
    "net[0].weight.data.normal_(0, 0.01)\n",
    "net[0].bias.data.fill_(0)\n",
    "\n",
    "# 损失函数和优化器\n",
    "loss = nn.MSELoss()\n",
    "trainer = torch.optim.SGD(net.parameters(), lr=0.03)\n",
    "\n",
    "# 训练并访问梯度\n",
    "num_epochs = 3\n",
    "for epoch in range(num_epochs):\n",
    "    for X, y in data_iter:\n",
    "        l = loss(net(X), y)\n",
    "        trainer.zero_grad()\n",
    "        l.backward()\n",
    "        \n",
    "        # 在这里可以访问梯度\n",
    "        if epoch == 0:  # 仅在第一个epoch展示梯度\n",
    "            print(\"权重梯度:\", net[0].weight.grad)\n",
    "            print(\"偏置梯度:\", net[0].bias.grad)\n",
    "            break  # 只展示一次\n",
    "        \n",
    "        trainer.step()\n",
    "    l = loss(net(features), labels)\n",
    "    print(f'epoch {epoch + 1}, loss {l:f}')"
   ]
  },
  {
   "cell_type": "markdown",
   "id": "4e43317d",
   "metadata": {
    "origin_pos": 69,
    "tab": [
     "pytorch"
    ]
   },
   "source": [
    "[Discussions](https://discuss.d2l.ai/t/1781)\n"
   ]
  }
 ],
 "metadata": {
  "kernelspec": {
   "display_name": ".venv",
   "language": "python",
   "name": "python3"
  },
  "language_info": {
   "codemirror_mode": {
    "name": "ipython",
    "version": 3
   },
   "file_extension": ".py",
   "mimetype": "text/x-python",
   "name": "python",
   "nbconvert_exporter": "python",
   "pygments_lexer": "ipython3",
   "version": "3.11.8"
  },
  "required_libs": []
 },
 "nbformat": 4,
 "nbformat_minor": 5
}
